{
 "cells": [
  {
   "cell_type": "markdown",
   "id": "43a8e6c4",
   "metadata": {},
   "source": [
    "# Categorical Transformation"
   ]
  },
  {
   "cell_type": "code",
   "execution_count": 8,
   "id": "1b23ca02",
   "metadata": {},
   "outputs": [
    {
     "name": "stdout",
     "output_type": "stream",
     "text": [
      "<class 'pandas.core.frame.DataFrame'>\n",
      "Int64Index: 21609 entries, 0 to 21612\n",
      "Data columns (total 20 columns):\n",
      " #   Column                                     Non-Null Count  Dtype  \n",
      "---  ------                                     --------------  -----  \n",
      " 0   Sale Price                                 21609 non-null  float64\n",
      " 1   No of Bedrooms                             21609 non-null  int64  \n",
      " 2   No of Bathrooms                            21609 non-null  float64\n",
      " 3   Flat Area (in Sqft)                        21609 non-null  float64\n",
      " 4   Lot Area (in Sqft)                         21609 non-null  float64\n",
      " 5   No of Floors                               21609 non-null  float64\n",
      " 6   Waterfront View                            21609 non-null  object \n",
      " 7   No of Times Visited                        21609 non-null  object \n",
      " 8   Condition of the House                     21609 non-null  object \n",
      " 9   Overall Grade                              21609 non-null  int64  \n",
      " 10  Area of the House from Basement (in Sqft)  21609 non-null  float64\n",
      " 11  Basement Area (in Sqft)                    21609 non-null  int64  \n",
      " 12  Age of House (in Years)                    21609 non-null  int64  \n",
      " 13  Zipcode                                    21609 non-null  float64\n",
      " 14  Latitude                                   21609 non-null  float64\n",
      " 15  Longitude                                  21609 non-null  float64\n",
      " 16  Living Area after Renovation (in Sqft)     21609 non-null  float64\n",
      " 17  Lot Area after Renovation (in Sqft)        21609 non-null  int64  \n",
      " 18  Ever Renovated                             21609 non-null  object \n",
      " 19  Years since Renovation                     21609 non-null  int64  \n",
      "dtypes: float64(10), int64(6), object(4)\n",
      "memory usage: 3.5+ MB\n"
     ]
    }
   ],
   "source": [
    "import pandas as pd\n",
    "import numpy as np\n",
    "import matplotlib.pyplot as plt\n",
    "data = pd.read_csv('Transformed_Housing_Prices.csv')\n",
    "data.info()"
   ]
  },
  {
   "cell_type": "code",
   "execution_count": 23,
   "id": "97112d21",
   "metadata": {},
   "outputs": [],
   "source": [
    "mapping = {'Fair':'Good', 'Excellent':'Excellent', 'Good':'Good', 'Bad':'Okay', 'Okay':'Okay'}\n",
    "data['Condition of the House'] = data['Condition of the House'].map(mapping)"
   ]
  },
  {
   "cell_type": "code",
   "execution_count": 14,
   "id": "34ae5987",
   "metadata": {},
   "outputs": [],
   "source": [
    "data = pd.get_dummies(data,columns = ['Ever Renovated','Waterfront View'],drop_first = True)"
   ]
  },
  {
   "cell_type": "code",
   "execution_count": 19,
   "id": "29997c37",
   "metadata": {},
   "outputs": [],
   "source": [
    "mapping_2 = {'None':0, 'Thrice':3, 'Four':4, 'Twice':2, 'Once':1}\n",
    "data['No of Times Visited'] = data['No of Times Visited'].map(mapping_2)"
   ]
  },
  {
   "cell_type": "code",
   "execution_count": 30,
   "id": "d1d1bd2d",
   "metadata": {},
   "outputs": [],
   "source": [
    "mapping_3={'Excellent':3,'Good':2,'Okay':1}\n",
    "data['Condition of the House'] = data['Condition of the House'].map(mapping_3)"
   ]
  },
  {
   "cell_type": "code",
   "execution_count": 33,
   "id": "9c1d17b6",
   "metadata": {},
   "outputs": [
    {
     "name": "stdout",
     "output_type": "stream",
     "text": [
      "<class 'pandas.core.frame.DataFrame'>\n",
      "Int64Index: 21609 entries, 0 to 21612\n",
      "Data columns (total 20 columns):\n",
      " #   Column                                     Non-Null Count  Dtype  \n",
      "---  ------                                     --------------  -----  \n",
      " 0   Sale Price                                 21609 non-null  float64\n",
      " 1   No of Bedrooms                             21609 non-null  int64  \n",
      " 2   No of Bathrooms                            21609 non-null  float64\n",
      " 3   Flat Area (in Sqft)                        21609 non-null  float64\n",
      " 4   Lot Area (in Sqft)                         21609 non-null  float64\n",
      " 5   No of Floors                               21609 non-null  float64\n",
      " 6   No of Times Visited                        21609 non-null  int64  \n",
      " 7   Condition of the House                     21609 non-null  int64  \n",
      " 8   Overall Grade                              21609 non-null  int64  \n",
      " 9   Area of the House from Basement (in Sqft)  21609 non-null  float64\n",
      " 10  Basement Area (in Sqft)                    21609 non-null  int64  \n",
      " 11  Age of House (in Years)                    21609 non-null  int64  \n",
      " 12  Zipcode                                    21609 non-null  float64\n",
      " 13  Latitude                                   21609 non-null  float64\n",
      " 14  Longitude                                  21609 non-null  float64\n",
      " 15  Living Area after Renovation (in Sqft)     21609 non-null  float64\n",
      " 16  Lot Area after Renovation (in Sqft)        21609 non-null  int64  \n",
      " 17  Years since Renovation                     21609 non-null  int64  \n",
      " 18  Ever Renovated_Yes                         21609 non-null  uint8  \n",
      " 19  Waterfront View_Yes                        21609 non-null  uint8  \n",
      "dtypes: float64(10), int64(8), uint8(2)\n",
      "memory usage: 3.2 MB\n"
     ]
    }
   ],
   "source": [
    "data.info()"
   ]
  },
  {
   "cell_type": "markdown",
   "id": "3250b059",
   "metadata": {},
   "source": [
    "# Binning"
   ]
  },
  {
   "cell_type": "code",
   "execution_count": 34,
   "id": "571f96d8",
   "metadata": {},
   "outputs": [],
   "source": [
    "Zip_code_mean = data.groupby('Zipcode').agg({'Sale Price':'mean'}).sort_values('Sale Price',ascending = True)"
   ]
  },
  {
   "cell_type": "code",
   "execution_count": 36,
   "id": "202c190c",
   "metadata": {},
   "outputs": [],
   "source": [
    "Zip_code_mean['Zipcode_group'] = pd.cut(Zip_code_mean['Sale Price'],bins = 10,labels = ['Zipcode_group_0',\n",
    "                                                                                        'Zipcode_group_1',\n",
    "                                                                                        'Zipcode_group_2',\n",
    "                                                                                        'Zipcode_group_3',\n",
    "                                                                                        'Zipcode_group_4',\n",
    "                                                                                        'Zipcode_group_5',\n",
    "                                                                                        'Zipcode_group_6',\n",
    "                                                                                        'Zipcode_group_7',\n",
    "                                                                                        'Zipcode_group_8',\n",
    "                                                                                        'Zipcode_group_9'],include_lowest = True)"
   ]
  },
  {
   "cell_type": "code",
   "execution_count": 39,
   "id": "2ee8ac71",
   "metadata": {},
   "outputs": [],
   "source": [
    "Zip_code_mean = Zip_code_mean.drop(columns = 'Sale Price')"
   ]
  },
  {
   "cell_type": "code",
   "execution_count": 42,
   "id": "c3452067",
   "metadata": {},
   "outputs": [],
   "source": [
    "data = pd.merge(data,Zip_code_mean,left_on = 'Zipcode',how = 'left',right_index = True)"
   ]
  },
  {
   "cell_type": "code",
   "execution_count": 44,
   "id": "e413fcc5",
   "metadata": {},
   "outputs": [],
   "source": [
    "data = data.drop(columns = 'Zipcode')"
   ]
  },
  {
   "cell_type": "code",
   "execution_count": 46,
   "id": "bbe8cd81",
   "metadata": {},
   "outputs": [],
   "source": [
    "data = pd.get_dummies(data,columns = ['Zipcode_group'],drop_first = True)"
   ]
  },
  {
   "cell_type": "code",
   "execution_count": 50,
   "id": "32c745ae",
   "metadata": {},
   "outputs": [
    {
     "name": "stdout",
     "output_type": "stream",
     "text": [
      "<class 'pandas.core.frame.DataFrame'>\n",
      "Int64Index: 21609 entries, 0 to 21612\n",
      "Data columns (total 28 columns):\n",
      " #   Column                                     Non-Null Count  Dtype  \n",
      "---  ------                                     --------------  -----  \n",
      " 0   Sale Price                                 21609 non-null  float64\n",
      " 1   No of Bedrooms                             21609 non-null  int64  \n",
      " 2   No of Bathrooms                            21609 non-null  float64\n",
      " 3   Flat Area (in Sqft)                        21609 non-null  float64\n",
      " 4   Lot Area (in Sqft)                         21609 non-null  float64\n",
      " 5   No of Floors                               21609 non-null  float64\n",
      " 6   No of Times Visited                        21609 non-null  int64  \n",
      " 7   Condition of the House                     21609 non-null  int64  \n",
      " 8   Overall Grade                              21609 non-null  int64  \n",
      " 9   Area of the House from Basement (in Sqft)  21609 non-null  float64\n",
      " 10  Basement Area (in Sqft)                    21609 non-null  int64  \n",
      " 11  Age of House (in Years)                    21609 non-null  int64  \n",
      " 12  Latitude                                   21609 non-null  float64\n",
      " 13  Longitude                                  21609 non-null  float64\n",
      " 14  Living Area after Renovation (in Sqft)     21609 non-null  float64\n",
      " 15  Lot Area after Renovation (in Sqft)        21609 non-null  int64  \n",
      " 16  Years since Renovation                     21609 non-null  int64  \n",
      " 17  Ever Renovated_Yes                         21609 non-null  uint8  \n",
      " 18  Waterfront View_Yes                        21609 non-null  uint8  \n",
      " 19  Zipcode_group_Zipcode_group_1              21609 non-null  uint8  \n",
      " 20  Zipcode_group_Zipcode_group_2              21609 non-null  uint8  \n",
      " 21  Zipcode_group_Zipcode_group_3              21609 non-null  uint8  \n",
      " 22  Zipcode_group_Zipcode_group_4              21609 non-null  uint8  \n",
      " 23  Zipcode_group_Zipcode_group_5              21609 non-null  uint8  \n",
      " 24  Zipcode_group_Zipcode_group_6              21609 non-null  uint8  \n",
      " 25  Zipcode_group_Zipcode_group_7              21609 non-null  uint8  \n",
      " 26  Zipcode_group_Zipcode_group_8              21609 non-null  uint8  \n",
      " 27  Zipcode_group_Zipcode_group_9              21609 non-null  uint8  \n",
      "dtypes: float64(9), int64(8), uint8(11)\n",
      "memory usage: 3.7 MB\n"
     ]
    }
   ],
   "source": [
    "data.info()"
   ]
  },
  {
   "cell_type": "code",
   "execution_count": 51,
   "id": "7882333e",
   "metadata": {},
   "outputs": [],
   "source": [
    "data.to_csv('Transformed_Housing_Prices_2.csv')"
   ]
  }
 ],
 "metadata": {
  "kernelspec": {
   "display_name": "Python 3",
   "language": "python",
   "name": "python3"
  },
  "language_info": {
   "codemirror_mode": {
    "name": "ipython",
    "version": 3
   },
   "file_extension": ".py",
   "mimetype": "text/x-python",
   "name": "python",
   "nbconvert_exporter": "python",
   "pygments_lexer": "ipython3",
   "version": "3.8.8"
  }
 },
 "nbformat": 4,
 "nbformat_minor": 5
}
