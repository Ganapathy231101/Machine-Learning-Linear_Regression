{
 "cells": [
  {
   "cell_type": "code",
   "execution_count": null,
   "id": "9ec0b55c",
   "metadata": {},
   "outputs": [],
   "source": [
    "import pandas as pd\n",
    "data = pd.read_csv(\"Raw_Housing_Prices.csv\")"
   ]
  },
  {
   "cell_type": "code",
   "execution_count": 24,
   "id": "c76586da",
   "metadata": {},
   "outputs": [
    {
     "data": {
      "text/plain": [
       "(1129575.0, -162625.0)"
      ]
     },
     "execution_count": 24,
     "metadata": {},
     "output_type": "execute_result"
    }
   ],
   "source": [
    "Q1 = data['Sale Price'].quantile(.25)\n",
    "Q3 = data['Sale Price'].quantile(.75)\n",
    "IQR = Q3 - Q1\n",
    "upper = Q3 + 1.5*IQR\n",
    "lower = Q1 - 1.5*IQR\n",
    "upper,lower\n"
   ]
  },
  {
   "cell_type": "code",
   "execution_count": 25,
   "id": "8985bd8b",
   "metadata": {},
   "outputs": [],
   "source": [
    "def Rem_Outliers(x):\n",
    "    if x > upper:\n",
    "        return upper\n",
    "    if x < lower:\n",
    "        return lower\n",
    "    else:\n",
    "        return x"
   ]
  },
  {
   "cell_type": "code",
   "execution_count": 26,
   "id": "dd191414",
   "metadata": {},
   "outputs": [
    {
     "data": {
      "text/plain": [
       "count    2.160900e+04\n",
       "mean     5.116186e+05\n",
       "std      2.500620e+05\n",
       "min      7.500000e+04\n",
       "25%      3.219500e+05\n",
       "50%      4.500000e+05\n",
       "75%      6.450000e+05\n",
       "max      1.129575e+06\n",
       "Name: Sale Price, dtype: float64"
      ]
     },
     "execution_count": 26,
     "metadata": {},
     "output_type": "execute_result"
    }
   ],
   "source": [
    "data['Sale Price'] = data['Sale Price'].apply(Rem_Outliers)\n",
    "data['Sale Price'].describe()"
   ]
  },
  {
   "cell_type": "code",
   "execution_count": 28,
   "id": "8c9e640c",
   "metadata": {},
   "outputs": [
    {
     "name": "stdout",
     "output_type": "stream",
     "text": [
      "<class 'pandas.core.frame.DataFrame'>\n",
      "Int64Index: 21609 entries, 0 to 21612\n",
      "Data columns (total 21 columns):\n",
      " #   Column                                     Non-Null Count  Dtype  \n",
      "---  ------                                     --------------  -----  \n",
      " 0   ID                                         21609 non-null  int64  \n",
      " 1   Date House was Sold                        21609 non-null  object \n",
      " 2   Sale Price                                 21609 non-null  float64\n",
      " 3   No of Bedrooms                             21609 non-null  int64  \n",
      " 4   No of Bathrooms                            21605 non-null  float64\n",
      " 5   Flat Area (in Sqft)                        21600 non-null  float64\n",
      " 6   Lot Area (in Sqft)                         21600 non-null  float64\n",
      " 7   No of Floors                               21609 non-null  float64\n",
      " 8   Waterfront View                            21609 non-null  object \n",
      " 9   No of Times Visited                        21609 non-null  object \n",
      " 10  Condition of the House                     21609 non-null  object \n",
      " 11  Overall Grade                              21609 non-null  int64  \n",
      " 12  Area of the House from Basement (in Sqft)  21606 non-null  float64\n",
      " 13  Basement Area (in Sqft)                    21609 non-null  int64  \n",
      " 14  Age of House (in Years)                    21609 non-null  int64  \n",
      " 15  Renovated Year                             21609 non-null  int64  \n",
      " 16  Zipcode                                    21608 non-null  float64\n",
      " 17  Latitude                                   21608 non-null  float64\n",
      " 18  Longitude                                  21608 non-null  float64\n",
      " 19  Living Area after Renovation (in Sqft)     21608 non-null  float64\n",
      " 20  Lot Area after Renovation (in Sqft)        21609 non-null  int64  \n",
      "dtypes: float64(10), int64(7), object(4)\n",
      "memory usage: 3.6+ MB\n"
     ]
    }
   ],
   "source": [
    "data.dropna(inplace=True,axis=0,subset=['Sale Price'])\n",
    "data.info()"
   ]
  },
  {
   "cell_type": "code",
   "execution_count": 29,
   "id": "f0e052a8",
   "metadata": {},
   "outputs": [
    {
     "data": {
      "text/plain": [
       "Index(['ID', 'Date House was Sold', 'Sale Price', 'No of Bedrooms',\n",
       "       'No of Bathrooms', 'Flat Area (in Sqft)', 'Lot Area (in Sqft)',\n",
       "       'No of Floors', 'Waterfront View', 'No of Times Visited',\n",
       "       'Condition of the House', 'Overall Grade',\n",
       "       'Area of the House from Basement (in Sqft)', 'Basement Area (in Sqft)',\n",
       "       'Age of House (in Years)', 'Renovated Year', 'Zipcode', 'Latitude',\n",
       "       'Longitude', 'Living Area after Renovation (in Sqft)',\n",
       "       'Lot Area after Renovation (in Sqft)'],\n",
       "      dtype='object')"
      ]
     },
     "execution_count": 29,
     "metadata": {},
     "output_type": "execute_result"
    }
   ],
   "source": [
    "data.columns"
   ]
  },
  {
   "cell_type": "code",
   "execution_count": 32,
   "id": "287f0346",
   "metadata": {},
   "outputs": [],
   "source": [
    "import numpy as np\n",
    "from sklearn.impute import SimpleImputer\n",
    "imputer = SimpleImputer(missing_values = np.nan, strategy = 'median')\n",
    "numeric=['No of Bathrooms', 'Flat Area (in Sqft)', 'Lot Area (in Sqft)', 'Area of the House from Basement (in Sqft)', 'Latitude',\n",
    "       'Longitude', 'Living Area after Renovation (in Sqft)']\n",
    "data[numeric] = imputer.fit_transform(data[numeric])"
   ]
  },
  {
   "cell_type": "code",
   "execution_count": 33,
   "id": "88b5d8e7",
   "metadata": {},
   "outputs": [
    {
     "name": "stdout",
     "output_type": "stream",
     "text": [
      "<class 'pandas.core.frame.DataFrame'>\n",
      "Int64Index: 21609 entries, 0 to 21612\n",
      "Data columns (total 21 columns):\n",
      " #   Column                                     Non-Null Count  Dtype  \n",
      "---  ------                                     --------------  -----  \n",
      " 0   ID                                         21609 non-null  int64  \n",
      " 1   Date House was Sold                        21609 non-null  object \n",
      " 2   Sale Price                                 21609 non-null  float64\n",
      " 3   No of Bedrooms                             21609 non-null  int64  \n",
      " 4   No of Bathrooms                            21609 non-null  float64\n",
      " 5   Flat Area (in Sqft)                        21609 non-null  float64\n",
      " 6   Lot Area (in Sqft)                         21609 non-null  float64\n",
      " 7   No of Floors                               21609 non-null  float64\n",
      " 8   Waterfront View                            21609 non-null  object \n",
      " 9   No of Times Visited                        21609 non-null  object \n",
      " 10  Condition of the House                     21609 non-null  object \n",
      " 11  Overall Grade                              21609 non-null  int64  \n",
      " 12  Area of the House from Basement (in Sqft)  21609 non-null  float64\n",
      " 13  Basement Area (in Sqft)                    21609 non-null  int64  \n",
      " 14  Age of House (in Years)                    21609 non-null  int64  \n",
      " 15  Renovated Year                             21609 non-null  int64  \n",
      " 16  Zipcode                                    21608 non-null  float64\n",
      " 17  Latitude                                   21609 non-null  float64\n",
      " 18  Longitude                                  21609 non-null  float64\n",
      " 19  Living Area after Renovation (in Sqft)     21609 non-null  float64\n",
      " 20  Lot Area after Renovation (in Sqft)        21609 non-null  int64  \n",
      "dtypes: float64(10), int64(7), object(4)\n",
      "memory usage: 3.6+ MB\n"
     ]
    }
   ],
   "source": [
    "data.info()"
   ]
  },
  {
   "cell_type": "code",
   "execution_count": 36,
   "id": "3feecc9b",
   "metadata": {},
   "outputs": [],
   "source": [
    "column = data['Zipcode'].values.reshape(-1,1)\n",
    "imputer = SimpleImputer(missing_values = np.nan, strategy = 'most_frequent')\n",
    "data['Zipcode'] = imputer.fit_transform(column)"
   ]
  },
  {
   "cell_type": "code",
   "execution_count": 37,
   "id": "5053b6eb",
   "metadata": {},
   "outputs": [
    {
     "name": "stdout",
     "output_type": "stream",
     "text": [
      "<class 'pandas.core.frame.DataFrame'>\n",
      "Int64Index: 21609 entries, 0 to 21612\n",
      "Data columns (total 21 columns):\n",
      " #   Column                                     Non-Null Count  Dtype  \n",
      "---  ------                                     --------------  -----  \n",
      " 0   ID                                         21609 non-null  int64  \n",
      " 1   Date House was Sold                        21609 non-null  object \n",
      " 2   Sale Price                                 21609 non-null  float64\n",
      " 3   No of Bedrooms                             21609 non-null  int64  \n",
      " 4   No of Bathrooms                            21609 non-null  float64\n",
      " 5   Flat Area (in Sqft)                        21609 non-null  float64\n",
      " 6   Lot Area (in Sqft)                         21609 non-null  float64\n",
      " 7   No of Floors                               21609 non-null  float64\n",
      " 8   Waterfront View                            21609 non-null  object \n",
      " 9   No of Times Visited                        21609 non-null  object \n",
      " 10  Condition of the House                     21609 non-null  object \n",
      " 11  Overall Grade                              21609 non-null  int64  \n",
      " 12  Area of the House from Basement (in Sqft)  21609 non-null  float64\n",
      " 13  Basement Area (in Sqft)                    21609 non-null  int64  \n",
      " 14  Age of House (in Years)                    21609 non-null  int64  \n",
      " 15  Renovated Year                             21609 non-null  int64  \n",
      " 16  Zipcode                                    21609 non-null  float64\n",
      " 17  Latitude                                   21609 non-null  float64\n",
      " 18  Longitude                                  21609 non-null  float64\n",
      " 19  Living Area after Renovation (in Sqft)     21609 non-null  float64\n",
      " 20  Lot Area after Renovation (in Sqft)        21609 non-null  int64  \n",
      "dtypes: float64(10), int64(7), object(4)\n",
      "memory usage: 3.6+ MB\n"
     ]
    }
   ],
   "source": [
    "data.info()"
   ]
  },
  {
   "cell_type": "code",
   "execution_count": 44,
   "id": "1fc7d1e5",
   "metadata": {},
   "outputs": [],
   "source": [
    "data.to_csv('Raw_Housing_Prices_1.csv')"
   ]
  }
 ],
 "metadata": {
  "kernelspec": {
   "display_name": "Python 3",
   "language": "python",
   "name": "python3"
  },
  "language_info": {
   "codemirror_mode": {
    "name": "ipython",
    "version": 3
   },
   "file_extension": ".py",
   "mimetype": "text/x-python",
   "name": "python",
   "nbconvert_exporter": "python",
   "pygments_lexer": "ipython3",
   "version": "3.8.8"
  }
 },
 "nbformat": 4,
 "nbformat_minor": 5
}
